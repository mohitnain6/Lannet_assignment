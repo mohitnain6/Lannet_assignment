{
  "nbformat": 4,
  "nbformat_minor": 0,
  "metadata": {
    "colab": {
      "name": "coding_test_solution.ipynb",
      "provenance": [],
      "collapsed_sections": []
    },
    "kernelspec": {
      "name": "python3",
      "display_name": "Python 3"
    }
  },
  "cells": [
    {
      "cell_type": "markdown",
      "metadata": {
        "id": "OwxuDYRWPGIo",
        "colab_type": "text"
      },
      "source": [
        "#Task one solution"
      ]
    },
    {
      "cell_type": "code",
      "metadata": {
        "id": "7k9sPEOLEdnS",
        "colab_type": "code",
        "colab": {
          "base_uri": "https://localhost:8080/",
          "height": 70
        },
        "outputId": "5f561fad-bf39-47e8-d157-8c25a3a33148"
      },
      "source": [
        "import pandas as pd\n",
        "import numpy as np\n",
        "import seaborn as sb\n",
        "\n",
        "from itertools import combinations\n",
        "from scipy import stats\n",
        "from collections import Counter"
      ],
      "execution_count": 19,
      "outputs": [
        {
          "output_type": "stream",
          "text": [
            "/usr/local/lib/python3.6/dist-packages/statsmodels/tools/_testing.py:19: FutureWarning: pandas.util.testing is deprecated. Use the functions in the public API at pandas.testing instead.\n",
            "  import pandas.util.testing as tm\n"
          ],
          "name": "stderr"
        }
      ]
    },
    {
      "cell_type": "code",
      "metadata": {
        "id": "DPsex8Q5nMWi",
        "colab_type": "code",
        "colab": {
          "base_uri": "https://localhost:8080/",
          "height": 195
        },
        "outputId": "0d1530d9-31f6-4879-aa33-2cf144d12387"
      },
      "source": [
        "#importing dataset from github repository\n",
        "data = pd.read_csv('https://raw.githubusercontent.com/mohitnain6/Lannet_assignment/master/data.csv')\n",
        "data.head()\n",
        "\n"
      ],
      "execution_count": 20,
      "outputs": [
        {
          "output_type": "execute_result",
          "data": {
            "text/html": [
              "<div>\n",
              "<style scoped>\n",
              "    .dataframe tbody tr th:only-of-type {\n",
              "        vertical-align: middle;\n",
              "    }\n",
              "\n",
              "    .dataframe tbody tr th {\n",
              "        vertical-align: top;\n",
              "    }\n",
              "\n",
              "    .dataframe thead th {\n",
              "        text-align: right;\n",
              "    }\n",
              "</style>\n",
              "<table border=\"1\" class=\"dataframe\">\n",
              "  <thead>\n",
              "    <tr style=\"text-align: right;\">\n",
              "      <th></th>\n",
              "      <th>Date_1</th>\n",
              "      <th>Date_2</th>\n",
              "      <th>Date_3</th>\n",
              "      <th>Date_4</th>\n",
              "      <th>Date_5</th>\n",
              "      <th>Date_6</th>\n",
              "      <th>Date_7</th>\n",
              "    </tr>\n",
              "  </thead>\n",
              "  <tbody>\n",
              "    <tr>\n",
              "      <th>0</th>\n",
              "      <td>1/17/2017</td>\n",
              "      <td>2019-10-25</td>\n",
              "      <td>28-Dec-18</td>\n",
              "      <td>10/9/2019</td>\n",
              "      <td>01/31/20</td>\n",
              "      <td>4/3/2017</td>\n",
              "      <td>08/22/18</td>\n",
              "    </tr>\n",
              "    <tr>\n",
              "      <th>1</th>\n",
              "      <td>9/8/2019</td>\n",
              "      <td>2016-08-16</td>\n",
              "      <td>2-Mar-19</td>\n",
              "      <td>3/23/2020</td>\n",
              "      <td>11/01/19</td>\n",
              "      <td>11/28/2018</td>\n",
              "      <td>01/07/19</td>\n",
              "    </tr>\n",
              "    <tr>\n",
              "      <th>2</th>\n",
              "      <td>7/7/2016</td>\n",
              "      <td>2016-11-29</td>\n",
              "      <td>1-Aug-19</td>\n",
              "      <td>2/11/2017</td>\n",
              "      <td>04/26/19</td>\n",
              "      <td>5/11/2017</td>\n",
              "      <td>01/07/18</td>\n",
              "    </tr>\n",
              "    <tr>\n",
              "      <th>3</th>\n",
              "      <td>5/8/2016</td>\n",
              "      <td>2019-03-25</td>\n",
              "      <td>11-Jun-18</td>\n",
              "      <td>12/13/2017</td>\n",
              "      <td>03/08/17</td>\n",
              "      <td>4/26/2019</td>\n",
              "      <td>09/24/18</td>\n",
              "    </tr>\n",
              "    <tr>\n",
              "      <th>4</th>\n",
              "      <td>2/25/2019</td>\n",
              "      <td>2017-06-13</td>\n",
              "      <td>20-Feb-18</td>\n",
              "      <td>2/28/2017</td>\n",
              "      <td>08/03/17</td>\n",
              "      <td>10/24/2018</td>\n",
              "      <td>10/05/17</td>\n",
              "    </tr>\n",
              "  </tbody>\n",
              "</table>\n",
              "</div>"
            ],
            "text/plain": [
              "      Date_1      Date_2     Date_3      Date_4    Date_5      Date_6    Date_7\n",
              "0  1/17/2017  2019-10-25  28-Dec-18   10/9/2019  01/31/20    4/3/2017  08/22/18\n",
              "1   9/8/2019  2016-08-16   2-Mar-19   3/23/2020  11/01/19  11/28/2018  01/07/19\n",
              "2   7/7/2016  2016-11-29   1-Aug-19   2/11/2017  04/26/19   5/11/2017  01/07/18\n",
              "3   5/8/2016  2019-03-25  11-Jun-18  12/13/2017  03/08/17   4/26/2019  09/24/18\n",
              "4  2/25/2019  2017-06-13  20-Feb-18   2/28/2017  08/03/17  10/24/2018  10/05/17"
            ]
          },
          "metadata": {
            "tags": []
          },
          "execution_count": 20
        }
      ]
    },
    {
      "cell_type": "code",
      "metadata": {
        "id": "XD_yVld6naAO",
        "colab_type": "code",
        "colab": {
          "base_uri": "https://localhost:8080/",
          "height": 252
        },
        "outputId": "134f3c54-f0db-4108-8aa8-d3e1f27f74e3"
      },
      "source": [
        "data.info()"
      ],
      "execution_count": 21,
      "outputs": [
        {
          "output_type": "stream",
          "text": [
            "<class 'pandas.core.frame.DataFrame'>\n",
            "RangeIndex: 41 entries, 0 to 40\n",
            "Data columns (total 7 columns):\n",
            " #   Column  Non-Null Count  Dtype \n",
            "---  ------  --------------  ----- \n",
            " 0   Date_1  39 non-null     object\n",
            " 1   Date_2  39 non-null     object\n",
            " 2   Date_3  39 non-null     object\n",
            " 3   Date_4  39 non-null     object\n",
            " 4   Date_5  39 non-null     object\n",
            " 5   Date_6  39 non-null     object\n",
            " 6   Date_7  39 non-null     object\n",
            "dtypes: object(7)\n",
            "memory usage: 2.4+ KB\n"
          ],
          "name": "stdout"
        }
      ]
    },
    {
      "cell_type": "code",
      "metadata": {
        "id": "NV2H_f_WrYnS",
        "colab_type": "code",
        "colab": {}
      },
      "source": [
        "#function to convert coulumn into datetime object\n",
        "\n",
        "def ConvertDatetime(data):\n",
        "  df = data.copy() #Copy data to not modify orignal data\n",
        "  for col in df.columns:\n",
        "    if df[col].dtype == 'object':\n",
        "        try:\n",
        "            df[col] = pd.to_datetime(df[col],errors = 'coerce')  # Converting all object columns in copied dataframe to datetime columns and fillinf with NaT if error occurs \n",
        "        except ValueError:\n",
        "            pass\n",
        "  for col in df.columns:\n",
        "    if df[col].dtype == 'datetime64[ns]':\n",
        "      df[col] = df[col].apply(lambda x: x if not pd.isnull(x) else None) #Converting NaT values to None for easier removal of columns\n",
        "    if df[col].isnull().sum() == len(df[col]):\n",
        "      df.drop(col,inplace=True,axis=1) #Drop columns if all values are None --> If column has no Dates\n",
        "  return df #returning the modified copy of our data"
      ],
      "execution_count": 22,
      "outputs": []
    },
    {
      "cell_type": "code",
      "metadata": {
        "id": "KoQzNRNcreH4",
        "colab_type": "code",
        "colab": {}
      },
      "source": [
        "def MakeDifference(data):\n",
        "  df=ConvertDatetime(data) #Gets modified copy of our data\n",
        "  for col in df.columns:\n",
        "    data[col] = df[col] #Changes the columns of our original data to datetime columns if they have dates present\n",
        "  date_columns=[]\n",
        "  for col in data.columns:\n",
        "    if data[col].dtype == 'datetime64[ns]':\n",
        "      date_columns.append(col)  ## make a list of columns that are datetime\n",
        "  date_combo = list(combinations(date_columns,2)) # make all possible pairs from our datetime columns\n",
        "  for columns in date_combo:\n",
        "    data['{}-{}'.format(columns[0],columns[1])] = data[columns[0]] - data[columns[1]] # Appending a difference column to our dataframe\n",
        "MakeDifference(data)"
      ],
      "execution_count": 23,
      "outputs": []
    },
    {
      "cell_type": "code",
      "metadata": {
        "id": "3kokgjp_roqH",
        "colab_type": "code",
        "colab": {
          "base_uri": "https://localhost:8080/",
          "height": 316
        },
        "outputId": "32a2453e-f9ee-44f3-e9c0-9d0cc4cfe135"
      },
      "source": [
        "data.head() #To check final require results"
      ],
      "execution_count": 24,
      "outputs": [
        {
          "output_type": "execute_result",
          "data": {
            "text/html": [
              "<div>\n",
              "<style scoped>\n",
              "    .dataframe tbody tr th:only-of-type {\n",
              "        vertical-align: middle;\n",
              "    }\n",
              "\n",
              "    .dataframe tbody tr th {\n",
              "        vertical-align: top;\n",
              "    }\n",
              "\n",
              "    .dataframe thead th {\n",
              "        text-align: right;\n",
              "    }\n",
              "</style>\n",
              "<table border=\"1\" class=\"dataframe\">\n",
              "  <thead>\n",
              "    <tr style=\"text-align: right;\">\n",
              "      <th></th>\n",
              "      <th>Date_1</th>\n",
              "      <th>Date_2</th>\n",
              "      <th>Date_3</th>\n",
              "      <th>Date_4</th>\n",
              "      <th>Date_5</th>\n",
              "      <th>Date_6</th>\n",
              "      <th>Date_7</th>\n",
              "      <th>Date_1-Date_2</th>\n",
              "      <th>Date_1-Date_3</th>\n",
              "      <th>Date_1-Date_4</th>\n",
              "      <th>Date_1-Date_5</th>\n",
              "      <th>Date_1-Date_6</th>\n",
              "      <th>Date_1-Date_7</th>\n",
              "      <th>Date_2-Date_3</th>\n",
              "      <th>Date_2-Date_4</th>\n",
              "      <th>Date_2-Date_5</th>\n",
              "      <th>Date_2-Date_6</th>\n",
              "      <th>Date_2-Date_7</th>\n",
              "      <th>Date_3-Date_4</th>\n",
              "      <th>Date_3-Date_5</th>\n",
              "      <th>Date_3-Date_6</th>\n",
              "      <th>Date_3-Date_7</th>\n",
              "      <th>Date_4-Date_5</th>\n",
              "      <th>Date_4-Date_6</th>\n",
              "      <th>Date_4-Date_7</th>\n",
              "      <th>Date_5-Date_6</th>\n",
              "      <th>Date_5-Date_7</th>\n",
              "      <th>Date_6-Date_7</th>\n",
              "    </tr>\n",
              "  </thead>\n",
              "  <tbody>\n",
              "    <tr>\n",
              "      <th>0</th>\n",
              "      <td>2017-01-17</td>\n",
              "      <td>2019-10-25</td>\n",
              "      <td>2018-12-28</td>\n",
              "      <td>2019-10-09</td>\n",
              "      <td>2020-01-31</td>\n",
              "      <td>2017-04-03</td>\n",
              "      <td>2018-08-22</td>\n",
              "      <td>-1011 days</td>\n",
              "      <td>-710 days</td>\n",
              "      <td>-995 days</td>\n",
              "      <td>-1109 days</td>\n",
              "      <td>-76 days</td>\n",
              "      <td>-582 days</td>\n",
              "      <td>301 days</td>\n",
              "      <td>16 days</td>\n",
              "      <td>-98 days</td>\n",
              "      <td>935 days</td>\n",
              "      <td>429 days</td>\n",
              "      <td>-285 days</td>\n",
              "      <td>-399 days</td>\n",
              "      <td>634 days</td>\n",
              "      <td>128 days</td>\n",
              "      <td>-114 days</td>\n",
              "      <td>919 days</td>\n",
              "      <td>413 days</td>\n",
              "      <td>1033 days</td>\n",
              "      <td>527 days</td>\n",
              "      <td>-506 days</td>\n",
              "    </tr>\n",
              "    <tr>\n",
              "      <th>1</th>\n",
              "      <td>2019-09-08</td>\n",
              "      <td>2016-08-16</td>\n",
              "      <td>2019-03-02</td>\n",
              "      <td>2020-03-23</td>\n",
              "      <td>2019-11-01</td>\n",
              "      <td>2018-11-28</td>\n",
              "      <td>2019-01-07</td>\n",
              "      <td>1118 days</td>\n",
              "      <td>190 days</td>\n",
              "      <td>-197 days</td>\n",
              "      <td>-54 days</td>\n",
              "      <td>284 days</td>\n",
              "      <td>244 days</td>\n",
              "      <td>-928 days</td>\n",
              "      <td>-1315 days</td>\n",
              "      <td>-1172 days</td>\n",
              "      <td>-834 days</td>\n",
              "      <td>-874 days</td>\n",
              "      <td>-387 days</td>\n",
              "      <td>-244 days</td>\n",
              "      <td>94 days</td>\n",
              "      <td>54 days</td>\n",
              "      <td>143 days</td>\n",
              "      <td>481 days</td>\n",
              "      <td>441 days</td>\n",
              "      <td>338 days</td>\n",
              "      <td>298 days</td>\n",
              "      <td>-40 days</td>\n",
              "    </tr>\n",
              "    <tr>\n",
              "      <th>2</th>\n",
              "      <td>2016-07-07</td>\n",
              "      <td>2016-11-29</td>\n",
              "      <td>2019-08-01</td>\n",
              "      <td>2017-02-11</td>\n",
              "      <td>2019-04-26</td>\n",
              "      <td>2017-05-11</td>\n",
              "      <td>2018-01-07</td>\n",
              "      <td>-145 days</td>\n",
              "      <td>-1120 days</td>\n",
              "      <td>-219 days</td>\n",
              "      <td>-1023 days</td>\n",
              "      <td>-308 days</td>\n",
              "      <td>-549 days</td>\n",
              "      <td>-975 days</td>\n",
              "      <td>-74 days</td>\n",
              "      <td>-878 days</td>\n",
              "      <td>-163 days</td>\n",
              "      <td>-404 days</td>\n",
              "      <td>901 days</td>\n",
              "      <td>97 days</td>\n",
              "      <td>812 days</td>\n",
              "      <td>571 days</td>\n",
              "      <td>-804 days</td>\n",
              "      <td>-89 days</td>\n",
              "      <td>-330 days</td>\n",
              "      <td>715 days</td>\n",
              "      <td>474 days</td>\n",
              "      <td>-241 days</td>\n",
              "    </tr>\n",
              "    <tr>\n",
              "      <th>3</th>\n",
              "      <td>2016-05-08</td>\n",
              "      <td>2019-03-25</td>\n",
              "      <td>2018-06-11</td>\n",
              "      <td>2017-12-13</td>\n",
              "      <td>2017-03-08</td>\n",
              "      <td>2019-04-26</td>\n",
              "      <td>2018-09-24</td>\n",
              "      <td>-1051 days</td>\n",
              "      <td>-764 days</td>\n",
              "      <td>-584 days</td>\n",
              "      <td>-304 days</td>\n",
              "      <td>-1083 days</td>\n",
              "      <td>-869 days</td>\n",
              "      <td>287 days</td>\n",
              "      <td>467 days</td>\n",
              "      <td>747 days</td>\n",
              "      <td>-32 days</td>\n",
              "      <td>182 days</td>\n",
              "      <td>180 days</td>\n",
              "      <td>460 days</td>\n",
              "      <td>-319 days</td>\n",
              "      <td>-105 days</td>\n",
              "      <td>280 days</td>\n",
              "      <td>-499 days</td>\n",
              "      <td>-285 days</td>\n",
              "      <td>-779 days</td>\n",
              "      <td>-565 days</td>\n",
              "      <td>214 days</td>\n",
              "    </tr>\n",
              "    <tr>\n",
              "      <th>4</th>\n",
              "      <td>2019-02-25</td>\n",
              "      <td>2017-06-13</td>\n",
              "      <td>2018-02-20</td>\n",
              "      <td>2017-02-28</td>\n",
              "      <td>2017-08-03</td>\n",
              "      <td>2018-10-24</td>\n",
              "      <td>2017-10-05</td>\n",
              "      <td>622 days</td>\n",
              "      <td>370 days</td>\n",
              "      <td>727 days</td>\n",
              "      <td>571 days</td>\n",
              "      <td>124 days</td>\n",
              "      <td>508 days</td>\n",
              "      <td>-252 days</td>\n",
              "      <td>105 days</td>\n",
              "      <td>-51 days</td>\n",
              "      <td>-498 days</td>\n",
              "      <td>-114 days</td>\n",
              "      <td>357 days</td>\n",
              "      <td>201 days</td>\n",
              "      <td>-246 days</td>\n",
              "      <td>138 days</td>\n",
              "      <td>-156 days</td>\n",
              "      <td>-603 days</td>\n",
              "      <td>-219 days</td>\n",
              "      <td>-447 days</td>\n",
              "      <td>-63 days</td>\n",
              "      <td>384 days</td>\n",
              "    </tr>\n",
              "  </tbody>\n",
              "</table>\n",
              "</div>"
            ],
            "text/plain": [
              "      Date_1     Date_2     Date_3  ... Date_5-Date_6 Date_5-Date_7 Date_6-Date_7\n",
              "0 2017-01-17 2019-10-25 2018-12-28  ...     1033 days      527 days     -506 days\n",
              "1 2019-09-08 2016-08-16 2019-03-02  ...      338 days      298 days      -40 days\n",
              "2 2016-07-07 2016-11-29 2019-08-01  ...      715 days      474 days     -241 days\n",
              "3 2016-05-08 2019-03-25 2018-06-11  ...     -779 days     -565 days      214 days\n",
              "4 2019-02-25 2017-06-13 2018-02-20  ...     -447 days      -63 days      384 days\n",
              "\n",
              "[5 rows x 28 columns]"
            ]
          },
          "metadata": {
            "tags": []
          },
          "execution_count": 24
        }
      ]
    },
    {
      "cell_type": "markdown",
      "metadata": {
        "id": "TOhMRyOPP9fe",
        "colab_type": "text"
      },
      "source": [
        "#Task two solution"
      ]
    },
    {
      "cell_type": "code",
      "metadata": {
        "id": "Wsr6QcJUShXT",
        "colab_type": "code",
        "colab": {
          "base_uri": "https://localhost:8080/",
          "height": 232
        },
        "outputId": "52f1ed7f-65b9-4b87-d343-69340280d109"
      },
      "source": [
        "dataset = pd.read_csv('https://raw.githubusercontent.com/mohitnain6/databucket/master/WHO.csv')\n",
        "dataset.head()"
      ],
      "execution_count": 15,
      "outputs": [
        {
          "output_type": "execute_result",
          "data": {
            "text/html": [
              "<div>\n",
              "<style scoped>\n",
              "    .dataframe tbody tr th:only-of-type {\n",
              "        vertical-align: middle;\n",
              "    }\n",
              "\n",
              "    .dataframe tbody tr th {\n",
              "        vertical-align: top;\n",
              "    }\n",
              "\n",
              "    .dataframe thead th {\n",
              "        text-align: right;\n",
              "    }\n",
              "</style>\n",
              "<table border=\"1\" class=\"dataframe\">\n",
              "  <thead>\n",
              "    <tr style=\"text-align: right;\">\n",
              "      <th></th>\n",
              "      <th>Country</th>\n",
              "      <th>Region</th>\n",
              "      <th>Population</th>\n",
              "      <th>Under15</th>\n",
              "      <th>Over60</th>\n",
              "      <th>FertilityRate</th>\n",
              "      <th>LifeExpectancy</th>\n",
              "      <th>ChildMortality</th>\n",
              "      <th>CellularSubscribers</th>\n",
              "      <th>LiteracyRate</th>\n",
              "      <th>GNI</th>\n",
              "      <th>PrimarySchoolEnrollmentMale</th>\n",
              "      <th>PrimarySchoolEnrollmentFemale</th>\n",
              "    </tr>\n",
              "  </thead>\n",
              "  <tbody>\n",
              "    <tr>\n",
              "      <th>0</th>\n",
              "      <td>Afghanistan</td>\n",
              "      <td>Eastern Mediterranean</td>\n",
              "      <td>29825</td>\n",
              "      <td>47.42</td>\n",
              "      <td>3.82</td>\n",
              "      <td>5.40</td>\n",
              "      <td>60</td>\n",
              "      <td>98.5</td>\n",
              "      <td>54.26</td>\n",
              "      <td>0.0</td>\n",
              "      <td>1140</td>\n",
              "      <td>0.0</td>\n",
              "      <td>0.0</td>\n",
              "    </tr>\n",
              "    <tr>\n",
              "      <th>1</th>\n",
              "      <td>Albania</td>\n",
              "      <td>Europe</td>\n",
              "      <td>3162</td>\n",
              "      <td>21.33</td>\n",
              "      <td>14.93</td>\n",
              "      <td>1.75</td>\n",
              "      <td>74</td>\n",
              "      <td>16.7</td>\n",
              "      <td>96.39</td>\n",
              "      <td>0.0</td>\n",
              "      <td>8820</td>\n",
              "      <td>0.0</td>\n",
              "      <td>0.0</td>\n",
              "    </tr>\n",
              "    <tr>\n",
              "      <th>2</th>\n",
              "      <td>Algeria</td>\n",
              "      <td>Africa</td>\n",
              "      <td>38482</td>\n",
              "      <td>27.42</td>\n",
              "      <td>7.17</td>\n",
              "      <td>2.83</td>\n",
              "      <td>73</td>\n",
              "      <td>20.0</td>\n",
              "      <td>98.99</td>\n",
              "      <td>0.0</td>\n",
              "      <td>8310</td>\n",
              "      <td>98.2</td>\n",
              "      <td>96.4</td>\n",
              "    </tr>\n",
              "    <tr>\n",
              "      <th>3</th>\n",
              "      <td>Andorra</td>\n",
              "      <td>Europe</td>\n",
              "      <td>78</td>\n",
              "      <td>15.20</td>\n",
              "      <td>22.86</td>\n",
              "      <td>0.00</td>\n",
              "      <td>82</td>\n",
              "      <td>3.2</td>\n",
              "      <td>75.49</td>\n",
              "      <td>0.0</td>\n",
              "      <td>0</td>\n",
              "      <td>78.4</td>\n",
              "      <td>79.4</td>\n",
              "    </tr>\n",
              "    <tr>\n",
              "      <th>4</th>\n",
              "      <td>Angola</td>\n",
              "      <td>Africa</td>\n",
              "      <td>20821</td>\n",
              "      <td>47.58</td>\n",
              "      <td>3.84</td>\n",
              "      <td>6.10</td>\n",
              "      <td>51</td>\n",
              "      <td>163.5</td>\n",
              "      <td>48.38</td>\n",
              "      <td>70.1</td>\n",
              "      <td>5230</td>\n",
              "      <td>93.1</td>\n",
              "      <td>78.2</td>\n",
              "    </tr>\n",
              "  </tbody>\n",
              "</table>\n",
              "</div>"
            ],
            "text/plain": [
              "       Country  ... PrimarySchoolEnrollmentFemale\n",
              "0  Afghanistan  ...                           0.0\n",
              "1      Albania  ...                           0.0\n",
              "2      Algeria  ...                          96.4\n",
              "3      Andorra  ...                          79.4\n",
              "4       Angola  ...                          78.2\n",
              "\n",
              "[5 rows x 13 columns]"
            ]
          },
          "metadata": {
            "tags": []
          },
          "execution_count": 15
        }
      ]
    },
    {
      "cell_type": "code",
      "metadata": {
        "id": "HrYHTKJLWAs7",
        "colab_type": "code",
        "colab": {
          "base_uri": "https://localhost:8080/",
          "height": 336
        },
        "outputId": "db5d8ea6-60f9-44b8-f07d-625f8daf5000"
      },
      "source": [
        "dataset.info()\n",
        "dataset.shape"
      ],
      "execution_count": 33,
      "outputs": [
        {
          "output_type": "stream",
          "text": [
            "<class 'pandas.core.frame.DataFrame'>\n",
            "RangeIndex: 194 entries, 0 to 193\n",
            "Data columns (total 11 columns):\n",
            " #   Column                       Non-Null Count  Dtype  \n",
            "---  ------                       --------------  -----  \n",
            " 0   Country                      194 non-null    object \n",
            " 1   Region                       194 non-null    object \n",
            " 2   Population                   194 non-null    int64  \n",
            " 3   Under15                      194 non-null    float64\n",
            " 4   Over60                       194 non-null    float64\n",
            " 5   LifeExpectancy               194 non-null    int64  \n",
            " 6   ChildMortality               194 non-null    float64\n",
            " 7   CellularSubscribers          194 non-null    float64\n",
            " 8   LiteracyRate                 194 non-null    float64\n",
            " 9   GNI                          194 non-null    int64  \n",
            " 10  PrimarySchoolEnrollmentMale  194 non-null    float64\n",
            "dtypes: float64(6), int64(3), object(2)\n",
            "memory usage: 16.8+ KB\n"
          ],
          "name": "stdout"
        },
        {
          "output_type": "execute_result",
          "data": {
            "text/plain": [
              "(194, 11)"
            ]
          },
          "metadata": {
            "tags": []
          },
          "execution_count": 33
        }
      ]
    },
    {
      "cell_type": "code",
      "metadata": {
        "id": "VO3iCk4CShGY",
        "colab_type": "code",
        "colab": {
          "base_uri": "https://localhost:8080/",
          "height": 314
        },
        "outputId": "f21e5835-1192-47fd-a85d-9c662b5e2ae7"
      },
      "source": [
        "pearsoncorr = dataset.corr(method='pearson')\n",
        "pearsoncorr"
      ],
      "execution_count": 18,
      "outputs": [
        {
          "output_type": "execute_result",
          "data": {
            "text/html": [
              "<div>\n",
              "<style scoped>\n",
              "    .dataframe tbody tr th:only-of-type {\n",
              "        vertical-align: middle;\n",
              "    }\n",
              "\n",
              "    .dataframe tbody tr th {\n",
              "        vertical-align: top;\n",
              "    }\n",
              "\n",
              "    .dataframe thead th {\n",
              "        text-align: right;\n",
              "    }\n",
              "</style>\n",
              "<table border=\"1\" class=\"dataframe\">\n",
              "  <thead>\n",
              "    <tr style=\"text-align: right;\">\n",
              "      <th></th>\n",
              "      <th>Population</th>\n",
              "      <th>Under15</th>\n",
              "      <th>Over60</th>\n",
              "      <th>LifeExpectancy</th>\n",
              "      <th>ChildMortality</th>\n",
              "      <th>CellularSubscribers</th>\n",
              "      <th>LiteracyRate</th>\n",
              "      <th>GNI</th>\n",
              "      <th>PrimarySchoolEnrollmentMale</th>\n",
              "    </tr>\n",
              "  </thead>\n",
              "  <tbody>\n",
              "    <tr>\n",
              "      <th>Population</th>\n",
              "      <td>1.000000</td>\n",
              "      <td>-0.059634</td>\n",
              "      <td>0.011693</td>\n",
              "      <td>0.016277</td>\n",
              "      <td>-0.003675</td>\n",
              "      <td>-0.024026</td>\n",
              "      <td>-0.015937</td>\n",
              "      <td>-0.000142</td>\n",
              "      <td>-0.114835</td>\n",
              "    </tr>\n",
              "    <tr>\n",
              "      <th>Under15</th>\n",
              "      <td>-0.059634</td>\n",
              "      <td>1.000000</td>\n",
              "      <td>-0.829390</td>\n",
              "      <td>-0.836467</td>\n",
              "      <td>0.815076</td>\n",
              "      <td>-0.547105</td>\n",
              "      <td>0.003367</td>\n",
              "      <td>-0.579848</td>\n",
              "      <td>-0.153362</td>\n",
              "    </tr>\n",
              "    <tr>\n",
              "      <th>Over60</th>\n",
              "      <td>0.011693</td>\n",
              "      <td>-0.829390</td>\n",
              "      <td>1.000000</td>\n",
              "      <td>0.688129</td>\n",
              "      <td>-0.624303</td>\n",
              "      <td>0.387947</td>\n",
              "      <td>-0.043209</td>\n",
              "      <td>0.551694</td>\n",
              "      <td>0.238386</td>\n",
              "    </tr>\n",
              "    <tr>\n",
              "      <th>LifeExpectancy</th>\n",
              "      <td>0.016277</td>\n",
              "      <td>-0.836467</td>\n",
              "      <td>0.688129</td>\n",
              "      <td>1.000000</td>\n",
              "      <td>-0.924564</td>\n",
              "      <td>0.532386</td>\n",
              "      <td>-0.072008</td>\n",
              "      <td>0.554708</td>\n",
              "      <td>0.210041</td>\n",
              "    </tr>\n",
              "    <tr>\n",
              "      <th>ChildMortality</th>\n",
              "      <td>-0.003675</td>\n",
              "      <td>0.815076</td>\n",
              "      <td>-0.624303</td>\n",
              "      <td>-0.924564</td>\n",
              "      <td>1.000000</td>\n",
              "      <td>-0.530916</td>\n",
              "      <td>-0.005560</td>\n",
              "      <td>-0.452838</td>\n",
              "      <td>-0.160772</td>\n",
              "    </tr>\n",
              "    <tr>\n",
              "      <th>CellularSubscribers</th>\n",
              "      <td>-0.024026</td>\n",
              "      <td>-0.547105</td>\n",
              "      <td>0.387947</td>\n",
              "      <td>0.532386</td>\n",
              "      <td>-0.530916</td>\n",
              "      <td>1.000000</td>\n",
              "      <td>0.142985</td>\n",
              "      <td>0.418035</td>\n",
              "      <td>0.195088</td>\n",
              "    </tr>\n",
              "    <tr>\n",
              "      <th>LiteracyRate</th>\n",
              "      <td>-0.015937</td>\n",
              "      <td>0.003367</td>\n",
              "      <td>-0.043209</td>\n",
              "      <td>-0.072008</td>\n",
              "      <td>-0.005560</td>\n",
              "      <td>0.142985</td>\n",
              "      <td>1.000000</td>\n",
              "      <td>-0.080018</td>\n",
              "      <td>0.071562</td>\n",
              "    </tr>\n",
              "    <tr>\n",
              "      <th>GNI</th>\n",
              "      <td>-0.000142</td>\n",
              "      <td>-0.579848</td>\n",
              "      <td>0.551694</td>\n",
              "      <td>0.554708</td>\n",
              "      <td>-0.452838</td>\n",
              "      <td>0.418035</td>\n",
              "      <td>-0.080018</td>\n",
              "      <td>1.000000</td>\n",
              "      <td>0.234743</td>\n",
              "    </tr>\n",
              "    <tr>\n",
              "      <th>PrimarySchoolEnrollmentMale</th>\n",
              "      <td>-0.114835</td>\n",
              "      <td>-0.153362</td>\n",
              "      <td>0.238386</td>\n",
              "      <td>0.210041</td>\n",
              "      <td>-0.160772</td>\n",
              "      <td>0.195088</td>\n",
              "      <td>0.071562</td>\n",
              "      <td>0.234743</td>\n",
              "      <td>1.000000</td>\n",
              "    </tr>\n",
              "  </tbody>\n",
              "</table>\n",
              "</div>"
            ],
            "text/plain": [
              "                             Population  ...  PrimarySchoolEnrollmentMale\n",
              "Population                     1.000000  ...                    -0.114835\n",
              "Under15                       -0.059634  ...                    -0.153362\n",
              "Over60                         0.011693  ...                     0.238386\n",
              "LifeExpectancy                 0.016277  ...                     0.210041\n",
              "ChildMortality                -0.003675  ...                    -0.160772\n",
              "CellularSubscribers           -0.024026  ...                     0.195088\n",
              "LiteracyRate                  -0.015937  ...                     0.071562\n",
              "GNI                           -0.000142  ...                     0.234743\n",
              "PrimarySchoolEnrollmentMale   -0.114835  ...                     1.000000\n",
              "\n",
              "[9 rows x 9 columns]"
            ]
          },
          "metadata": {
            "tags": []
          },
          "execution_count": 18
        }
      ]
    },
    {
      "cell_type": "code",
      "metadata": {
        "id": "okeCLRqtT9g4",
        "colab_type": "code",
        "colab": {
          "base_uri": "https://localhost:8080/",
          "height": 426
        },
        "outputId": "2022d06c-13ff-4dd2-ba13-0b63e40c3508"
      },
      "source": [
        "#ploting peaeson correlation heatmap to see corelation between different columns\n",
        "sb.heatmap(pearsoncorr, \n",
        "            xticklabels=pearsoncorr.columns,\n",
        "            yticklabels=pearsoncorr.columns,\n",
        "            cmap='RdBu_r',\n",
        "            annot=True,\n",
        "            linewidth=0.5)"
      ],
      "execution_count": 30,
      "outputs": [
        {
          "output_type": "execute_result",
          "data": {
            "text/plain": [
              "<matplotlib.axes._subplots.AxesSubplot at 0x7f6fad8a0dd8>"
            ]
          },
          "metadata": {
            "tags": []
          },
          "execution_count": 30
        },
        {
          "output_type": "display_data",
          "data": {
            "image/png": "[encoded data removed]",
            "text/plain": [
              "<Figure size 432x288 with 2 Axes>"
            ]
          },
          "metadata": {
            "tags": [],
            "needs_background": "light"
          }
        }
      ]
    },
    {
      "cell_type": "code",
      "metadata": {
        "id": "W4uwaNAzaYU3",
        "colab_type": "code",
        "colab": {}
      },
      "source": [
        "def remove_collinear_features(x, threshold):\n",
        "    '''\n",
        "    Objective:\n",
        "        Remove collinear features in a dataframe with a correlation coefficient\n",
        "        greater than the threshold. Removing collinear features can help a model \n",
        "        to generalize and improves the interpretability of the model.\n",
        "\n",
        "    Inputs: \n",
        "        x: features dataframe\n",
        "        threshold: features with correlations greater than this value are removed\n",
        "\n",
        "    Output: \n",
        "        dataframe that contains only the non-highly-collinear features\n",
        "    '''\n",
        "\n",
        "    # Calculate the correlation matrix\n",
        "    corr_matrix = x.corr(method='pearson')\n",
        "    iters = range(len(corr_matrix.columns) - 1)\n",
        "    drop_cols = []\n",
        "\n",
        "    # Iterate through the correlation matrix and compare correlations\n",
        "    for i in iters:\n",
        "        for j in range(i+1):\n",
        "            item = corr_matrix.iloc[j:(j+1), (i+1):(i+2)]\n",
        "            col = item.columns\n",
        "            row = item.index\n",
        "            val = abs(item.values)\n",
        "\n",
        "            # If correlation exceeds the threshold\n",
        "            if val >= threshold:\n",
        "                # Print the correlated features and the correlation value\n",
        "                print(col.values[0], \"|\", row.values[0], \"|\", round(val[0][0], 2))\n",
        "                drop_cols.append(col.values[0])\n",
        "\n",
        "    # Drop one of each pair of correlated columns\n",
        "    drops = set(drop_cols)\n",
        "    x = x.drop(columns=drops)\n",
        "\n",
        "    return x.shape"
      ],
      "execution_count": 71,
      "outputs": []
    },
    {
      "cell_type": "code",
      "metadata": {
        "id": "ce5iNs0yeK2M",
        "colab_type": "code",
        "colab": {
          "base_uri": "https://localhost:8080/",
          "height": 50
        },
        "outputId": "af6e1cf4-2fb1-4114-a76d-b883e446e563"
      },
      "source": [
        "threshold = 0.85 \n",
        "remove_collinear_features(dataset, threshold)"
      ],
      "execution_count": 72,
      "outputs": [
        {
          "output_type": "stream",
          "text": [
            "ChildMortality | LifeExpectancy | 0.92\n"
          ],
          "name": "stdout"
        },
        {
          "output_type": "execute_result",
          "data": {
            "text/plain": [
              "(194, 10)"
            ]
          },
          "metadata": {
            "tags": []
          },
          "execution_count": 72
        }
      ]
    },
    {
      "cell_type": "markdown",
      "metadata": {
        "id": "t3qAW2k3ex40",
        "colab_type": "text"
      },
      "source": [
        "#Hense columns having Pearson correlation more than 0.85"
      ]
    },
    {
      "cell_type": "code",
      "metadata": {
        "id": "vrCJnwTHeT09",
        "colab_type": "code",
        "colab": {}
      },
      "source": [
        ""
      ],
      "execution_count": null,
      "outputs": []
    }
  ]
}